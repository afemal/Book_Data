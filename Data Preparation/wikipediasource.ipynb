{
 "cells": [
  {
   "cell_type": "markdown",
   "metadata": {},
   "source": [
    "# Cleaning/Formatting Website Data"
   ]
  },
  {
   "cell_type": "code",
   "execution_count": 17,
   "metadata": {},
   "outputs": [],
   "source": [
    "# Import libraries\n",
    "import pandas as pd\n",
    "import numpy as np"
   ]
  },
  {
   "cell_type": "markdown",
   "metadata": {},
   "source": [
    "**The following step may provide inconsistent results, as the data on the website may have changed. Please refer to the CSV file created from the data as it appear when I pulled it.**"
   ]
  },
  {
   "cell_type": "code",
   "execution_count": 18,
   "metadata": {},
   "outputs": [],
   "source": [
    "# This is the URL to the websit data\n",
    "url = 'https://en.wikipedia.org/wiki/List_of_best-selling_books'\n",
    "\n",
    "# I need to read and create lists of the tables from the URL\n",
    "list_of_df = pd.read_html(url)\n",
    "# I want the second through fifth table. I will create a DataFrame of each of them\n",
    "df = list_of_df[1]\n",
    "df2 = list_of_df[2]\n",
    "df3 = list_of_df[3]\n",
    "df4 = list_of_df[4]\n",
    "\n",
    "# Next, I will concatenate the DataFrames \n",
    "book = pd.concat([df, df2, df3, df4], ignore_index=True) # ignore_index will re-index the rows\n",
    "\n",
    "# I created a CSV file of the final DataFrame to easier access for future work\n",
    "books = book.to_csv('booksWiki.csv', sep=',', index=False)"
   ]
  },
  {
   "cell_type": "code",
   "execution_count": 32,
   "metadata": {},
   "outputs": [],
   "source": [
    "books = pd.read_csv('booksWiki.csv')"
   ]
  },
  {
   "cell_type": "code",
   "execution_count": 33,
   "metadata": {},
   "outputs": [
    {
     "name": "stdout",
     "output_type": "stream",
     "text": [
      "This dataset has 160 observations and 6 variables.\n"
     ]
    }
   ],
   "source": [
    "print('This dataset has {} observations and {} variables.'.format(books.shape[0], books.shape[1]))"
   ]
  },
  {
   "cell_type": "code",
   "execution_count": 34,
   "metadata": {},
   "outputs": [
    {
     "data": {
      "text/html": [
       "<div>\n",
       "<style scoped>\n",
       "    .dataframe tbody tr th:only-of-type {\n",
       "        vertical-align: middle;\n",
       "    }\n",
       "\n",
       "    .dataframe tbody tr th {\n",
       "        vertical-align: top;\n",
       "    }\n",
       "\n",
       "    .dataframe thead th {\n",
       "        text-align: right;\n",
       "    }\n",
       "</style>\n",
       "<table border=\"1\" class=\"dataframe\">\n",
       "  <thead>\n",
       "    <tr style=\"text-align: right;\">\n",
       "      <th></th>\n",
       "      <th>Book</th>\n",
       "      <th>Author(s)</th>\n",
       "      <th>Original language</th>\n",
       "      <th>First published</th>\n",
       "      <th>Approximate sales</th>\n",
       "      <th>Genre</th>\n",
       "    </tr>\n",
       "  </thead>\n",
       "  <tbody>\n",
       "    <tr>\n",
       "      <th>0</th>\n",
       "      <td>The Lion, the Witch and the Wardrobe</td>\n",
       "      <td>C. S. Lewis</td>\n",
       "      <td>English</td>\n",
       "      <td>1950</td>\n",
       "      <td>85 million[24]</td>\n",
       "      <td>Fantasy</td>\n",
       "    </tr>\n",
       "    <tr>\n",
       "      <th>1</th>\n",
       "      <td>She: A History of Adventure</td>\n",
       "      <td>H. Rider Haggard</td>\n",
       "      <td>English</td>\n",
       "      <td>1887</td>\n",
       "      <td>83 million[25]</td>\n",
       "      <td>Adventure</td>\n",
       "    </tr>\n",
       "    <tr>\n",
       "      <th>2</th>\n",
       "      <td>The Adventures of Pinocchio (Le avventure di P...</td>\n",
       "      <td>Carlo Collodi</td>\n",
       "      <td>Italian</td>\n",
       "      <td>1881</td>\n",
       "      <td>&gt;80 million[26][27]</td>\n",
       "      <td>Fantasy</td>\n",
       "    </tr>\n",
       "    <tr>\n",
       "      <th>3</th>\n",
       "      <td>The Da Vinci Code</td>\n",
       "      <td>Dan Brown</td>\n",
       "      <td>English</td>\n",
       "      <td>2003</td>\n",
       "      <td>80 million[28]</td>\n",
       "      <td>Mystery thriller</td>\n",
       "    </tr>\n",
       "    <tr>\n",
       "      <th>4</th>\n",
       "      <td>Harry Potter and the Chamber of Secrets</td>\n",
       "      <td>J. K. Rowling</td>\n",
       "      <td>English</td>\n",
       "      <td>1998</td>\n",
       "      <td>77 million[29]</td>\n",
       "      <td>Fantasy</td>\n",
       "    </tr>\n",
       "  </tbody>\n",
       "</table>\n",
       "</div>"
      ],
      "text/plain": [
       "                                                Book         Author(s)  \\\n",
       "0               The Lion, the Witch and the Wardrobe       C. S. Lewis   \n",
       "1                        She: A History of Adventure  H. Rider Haggard   \n",
       "2  The Adventures of Pinocchio (Le avventure di P...     Carlo Collodi   \n",
       "3                                  The Da Vinci Code         Dan Brown   \n",
       "4            Harry Potter and the Chamber of Secrets     J. K. Rowling   \n",
       "\n",
       "  Original language First published    Approximate sales             Genre  \n",
       "0           English            1950       85 million[24]           Fantasy  \n",
       "1           English            1887       83 million[25]         Adventure  \n",
       "2           Italian            1881  >80 million[26][27]           Fantasy  \n",
       "3           English            2003       80 million[28]  Mystery thriller  \n",
       "4           English            1998       77 million[29]           Fantasy  "
      ]
     },
     "execution_count": 34,
     "metadata": {},
     "output_type": "execute_result"
    }
   ],
   "source": [
    "# I want to look at the format of the data\n",
    "books.head()"
   ]
  },
  {
   "cell_type": "code",
   "execution_count": 35,
   "metadata": {},
   "outputs": [],
   "source": [
    "# I want to format the variable names by converting them to lowercase and change the names to the following:\n",
    "books.rename(columns=lambda x: x.lower(), inplace=True)\n",
    "books.rename(columns={'book': 'title','author(s)': 'authors','approximate sales': 'sales'}, inplace=True)"
   ]
  },
  {
   "cell_type": "code",
   "execution_count": 36,
   "metadata": {},
   "outputs": [],
   "source": [
    "# I want to format the sales variable by removing unnecessary characters.\n",
    "books['clean_sales'] = books['sales'].apply(lambda x: x.replace('+',' ').replace('–',' ').replace('million','').\\\n",
    "                                            replace('>','').replace('[',' ').replace('more than ', '').replace(',','.').\\\n",
    "                                            replace('.000.000',' ').replace('0.000','').split(' ')[0])\n"
   ]
  },
  {
   "cell_type": "code",
   "execution_count": 37,
   "metadata": {},
   "outputs": [],
   "source": [
    "# Now, I can drop the sales variable and replace it with my formatted data\n",
    "books.drop(['sales'], axis=1, inplace=True)\n",
    "books.rename(columns={'clean_sales': 'sales'}, inplace=True)"
   ]
  },
  {
   "cell_type": "code",
   "execution_count": 38,
   "metadata": {},
   "outputs": [
    {
     "data": {
      "text/plain": [
       "title                  0\n",
       "authors                0\n",
       "original language      0\n",
       "first published        0\n",
       "genre                134\n",
       "sales                  0\n",
       "dtype: int64"
      ]
     },
     "execution_count": 38,
     "metadata": {},
     "output_type": "execute_result"
    }
   ],
   "source": [
    "# Now I want to look for missing data\n",
    "books.isnull().sum()"
   ]
  },
  {
   "cell_type": "code",
   "execution_count": 39,
   "metadata": {},
   "outputs": [],
   "source": [
    "# Genre has lots of missing data, so I will drop that variable\n",
    "books.drop(['genre'], axis=1, inplace=True)"
   ]
  },
  {
   "cell_type": "code",
   "execution_count": 40,
   "metadata": {},
   "outputs": [
    {
     "name": "stdout",
     "output_type": "stream",
     "text": [
      "Describe Data\n",
      "                  title        authors original language first published sales\n",
      "count               160            160               160             160   160\n",
      "unique              160            146                17              90    43\n",
      "top     The Kite Runner  J. K. Rowling           English            1979    20\n",
      "freq                  1              6               119               5    28\n",
      "Summarized Data\n",
      "                  title        authors original language first published sales\n",
      "count               160            160               160             160   160\n",
      "unique              160            146                17              90    43\n",
      "top     The Kite Runner  J. K. Rowling           English            1979    20\n",
      "freq                  1              6               119               5    28\n"
     ]
    }
   ],
   "source": [
    "print('Describe Data')\n",
    "print(books.describe())\n",
    "print('Summarized Data')\n",
    "print(books.describe(include=['O']))"
   ]
  },
  {
   "cell_type": "code",
   "execution_count": 41,
   "metadata": {},
   "outputs": [
    {
     "data": {
      "text/plain": [
       "array(['1950', '1887', '1881', '2003', '1998', '1999', '2000', '2005',\n",
       "       '2007', '1988', '1951', '1992', '1880', '1984', '1967', '1955',\n",
       "       '1946', '1908', '1877', '1980', '1975', '1972', '1976', '1952',\n",
       "       '1902', '1970', '1969', '1899', '1960', '1979', '1991', '1932',\n",
       "       '1869', '1947', '1977', '2002', '1966', '1925', '1936', '1938',\n",
       "       '1949', '2009', '2008', '1945', '1788', '1934', '1989', '1935',\n",
       "       '1993', '2012', '2010', '1957', '2015', '1929', '1974', '1958',\n",
       "       '2004', '1971', '1986', '1885', '1982', '1813', '1923', '1963',\n",
       "       '2006', '1973', '1965', '1964', '1968', '1981', '1995', '2011',\n",
       "       '1994', '1942', '1985', '1939', '2001', '1997', '1933', '1962',\n",
       "       '1987', '1956', '1948', '1304', '2018', '1961', '1978', '1953',\n",
       "       '1996', '1925-1929'], dtype=object)"
      ]
     },
     "execution_count": 41,
     "metadata": {},
     "output_type": "execute_result"
    }
   ],
   "source": [
    "books['first published'].unique()"
   ]
  },
  {
   "cell_type": "code",
   "execution_count": 42,
   "metadata": {},
   "outputs": [],
   "source": [
    "# The years are not all strings. The first half are integers. I want to convert them all to integers but I can't\n",
    "# until the last observation is not a range of years. I will keep the first year listed. \n",
    "books['first published'][159] = books['first published'][159].split('-')[0]"
   ]
  },
  {
   "cell_type": "code",
   "execution_count": 43,
   "metadata": {},
   "outputs": [],
   "source": [
    "# Now, I can convert all years to integers\n",
    "books['first published'] = books['first published'].astype(int)"
   ]
  },
  {
   "cell_type": "code",
   "execution_count": 44,
   "metadata": {},
   "outputs": [
    {
     "data": {
      "text/plain": [
       "array(['85', '83', '80', '77', '65', '60', '50', '45', '44', '43', '40',\n",
       "       '39', '37', '36.4', '36.0', '35', '33', '31.5', '31', '30', '29',\n",
       "       '26', '25', '24', '23', '22', '21', '20', '18', '17', '16', '15.2',\n",
       "       '15', '14', '13', '12.5', '12', '12.1', '11', '11.5', '10.5',\n",
       "       '10.4', '10'], dtype=object)"
      ]
     },
     "execution_count": 44,
     "metadata": {},
     "output_type": "execute_result"
    }
   ],
   "source": [
    "books['sales'].unique()"
   ]
  },
  {
   "cell_type": "code",
   "execution_count": 45,
   "metadata": {},
   "outputs": [],
   "source": [
    "# I also want to convert sales to floats\n",
    "books['sales'] = books['sales'].astype(float)"
   ]
  },
  {
   "cell_type": "code",
   "execution_count": 46,
   "metadata": {},
   "outputs": [
    {
     "name": "stdout",
     "output_type": "stream",
     "text": [
      "\n",
      "'title' has 160 classes.\n",
      " ['The Lion, the Witch and the Wardrobe' 'She: A History of Adventure'\n",
      " 'The Adventures of Pinocchio (Le avventure di Pinocchio)'\n",
      " 'The Da Vinci Code' 'Harry Potter and the Chamber of Secrets'\n",
      " 'Harry Potter and the Prisoner of Azkaban'\n",
      " 'Harry Potter and the Goblet of Fire'\n",
      " 'Harry Potter and the Order of the Phoenix'\n",
      " 'Harry Potter and the Half-Blood Prince'\n",
      " 'Harry Potter and the Deathly Hallows' 'The Alchemist (O Alquimista)'\n",
      " 'The Catcher in the Rye' 'The Bridges of Madison County'\n",
      " 'Ben-Hur: A Tale of the Christ' 'You Can Heal Your Life'\n",
      " 'One Hundred Years of Solitude (Cien años de soledad)' 'Lolita' 'Heidi'\n",
      " 'The Common Sense Book of Baby and Child Care' 'Anne of Green Gables'\n",
      " 'Black Beauty' 'The Name of the Rose (Il Nome della Rosa)'\n",
      " 'The Eagle Has Landed' 'Watership Down' 'The Hite Report'\n",
      " \"Charlotte's Web\" 'The Ginger Man' 'The Tale of Peter Rabbit'\n",
      " 'Jonathan Livingston Seagull' 'The Very Hungry Caterpillar'\n",
      " 'A Message to Garcia' 'To Kill a Mockingbird' 'Flowers in the Attic'\n",
      " 'Cosmos' \"Sophie's World (Sofies verden)\" 'Angels & Demons'\n",
      " 'Kane and Abel' 'How the Steel Was Tempered (Как закалялась сталь)'\n",
      " 'War and Peace (Война и мир)' 'The Diary of Anne Frank (Het Achterhuis)'\n",
      " 'Your Erroneous Zones' 'The Thorn Birds' 'The Purpose Driven Life'\n",
      " 'The Kite Runner' 'Valley of the Dolls' 'The Great Gatsby'\n",
      " 'Gone with the Wind' 'Rebecca' 'Nineteen Eighty-Four'\n",
      " 'The Revolt of Mamie Stover'\n",
      " 'The Girl with the Dragon Tattoo (Män som hatar kvinnor)'\n",
      " 'The Lost Symbol' 'The Hunger Games' 'The Young Guard (Молодая гвардия)'\n",
      " 'Who Moved My Cheese?' 'A Brief History of Time' 'Paul et Virginie'\n",
      " 'Lust for Life' 'The Wind in the Willows'\n",
      " 'The 7 Habits of Highly Effective People'\n",
      " 'Virgin Soil Upturned (Поднятая целина)' 'The Celestine Prophecy'\n",
      " 'The Fault in Our Stars' 'The Shack' 'Uncle Styopa (Дядя Степа)'\n",
      " 'The Godfather' 'Love Story' 'Catching Fire' 'Mockingjay' 'Kitchen'\n",
      " 'Andromeda Nebula' 'Autobiography of a Yogi' 'Gone Girl'\n",
      " 'The Girl on the Train'\n",
      " 'All Quiet on the Western Front (Im Westen nichts Neues)'\n",
      " 'The Bermuda Triangle' 'Things Fall Apart' 'Animal Farm'\n",
      " 'Wolf Totem (狼图腾)' 'The Happy Hooker: My Own Story' 'Jaws'\n",
      " 'Love You Forever' \"The Women's Room\"\n",
      " \"What to Expect When You're Expecting\" 'Adventures of Huckleberry Finn'\n",
      " 'The Secret Diary of Adrian Mole, Aged 13¾' 'Pride and Prejudice'\n",
      " 'Kon-Tiki: Across the Pacific in a Raft (Kon-Tiki ekspedisjonen)'\n",
      " 'The Good Soldier Švejk (Osudy dobrého vojáka Švejka za světové války)'\n",
      " 'Where the Wild Things Are' 'The Power of Positive Thinking' 'The Secret'\n",
      " 'Fear of Flying' 'Dune' 'Charlie and the Chocolate Factory'\n",
      " 'The Naked Ape' 'Totto-chan, the Little Girl at the Window (窓ぎわのトットちゃん)'\n",
      " 'Matilda' 'The Book Thief' 'The Horse Whisperer' 'Goodnight Moon'\n",
      " 'The Neverending Story (Die unendliche Geschichte)'\n",
      " 'Fifty Shades of Grey' 'The Outsiders' 'Guess How Much I Love You'\n",
      " 'Shōgun' 'The Poky Little Puppy' 'The Pillars of the Earth'\n",
      " 'How to Win Friends and Influence People' 'Perfume (Das Parfum)'\n",
      " 'The Grapes of Wrath' 'The Shadow of the Wind (La sombra del viento)'\n",
      " 'Interpreter of Maladies' \"The Hitchhiker's Guide to the Galaxy\"\n",
      " 'Tuesdays with Morrie' \"God's Little Acre\"\n",
      " \"Follow Your Heart (Va' dove ti porta il cuore)\" 'A Wrinkle in Time'\n",
      " 'Long Walk to Freedom' 'The Old Man and the Sea' 'Life After Life'\n",
      " 'Mein Kampf' 'Me Before You' 'Norwegian Wood (ノルウェイの森)' 'Peyton Place'\n",
      " 'The Plague (La Peste)' 'No Longer Human (人間失格)'\n",
      " \"Man's Search for Meaning (Ein Psychologe erlebt das Konzentrationslager)\"\n",
      " 'The Divine Comedy (La Divina Commedia)' 'Becoming' 'The Prophet'\n",
      " 'The Exorcist' 'The Gruffalo' 'Fifty Shades Darker'\n",
      " \"Ronia, the Robber's Daughter\" 'The Cat in the Hat'\n",
      " 'Diana: Her True Story' 'The Help' 'Catch-22' \"The Stranger (L'Étranger)\"\n",
      " 'Eye of the Needle' 'The Lovely Bones' 'Wild Swans' 'Santa Evita'\n",
      " 'Night (Un di Velt Hot Geshvign)' 'Confucius from the Heart (于丹《论语》心得)'\n",
      " 'The Total Woman' 'Knowledge-value Revolution (知価革命)'\n",
      " \"Problems in China's Socialist Economy (中国社会主义经济问题研究)\"\n",
      " 'What Color Is Your Parachute?' 'The Dukan Diet' 'The Joy of Sex'\n",
      " 'The Gospel According to Peanuts' 'Life of Pi' 'The Giver'\n",
      " 'The Front Runner' 'The Goal' 'Fahrenheit 451' \"Angela's Ashes\"\n",
      " 'The Story of My Experiments with Truth (સત્યના પ્રયોગો અથવા આત્મકથા)']\n",
      "\n",
      "'authors' has 146 classes.\n",
      " ['C. S. Lewis' 'H. Rider Haggard' 'Carlo Collodi' 'Dan Brown'\n",
      " 'J. K. Rowling' 'Paulo Coelho' 'J. D. Salinger' 'Robert James Waller'\n",
      " 'Lew Wallace' 'Louise Hay' 'Gabriel García Márquez' 'Vladimir Nabokov'\n",
      " 'Johanna Spyri' 'Dr. Benjamin Spock' 'Lucy Maud Montgomery' 'Anna Sewell'\n",
      " 'Umberto Eco' 'Jack Higgins' 'Richard Adams' 'Shere Hite'\n",
      " 'E. B. White; illustrated by Garth Williams' 'J. P. Donleavy'\n",
      " 'Beatrix Potter' 'Richard Bach' 'Eric Carle' 'Elbert Hubbard'\n",
      " 'Harper Lee' 'V. C. Andrews' 'Carl Sagan' 'Jostein Gaarder'\n",
      " 'Jeffrey Archer' 'Nikolai Ostrovsky' 'Leo Tolstoy' 'Anne Frank'\n",
      " 'Wayne Dyer' 'Colleen McCullough' 'Rick Warren' 'Khaled Hosseini'\n",
      " 'Jacqueline Susann' 'F. Scott Fitzgerald' 'Margaret Mitchell'\n",
      " 'Daphne du Maurier' 'George Orwell' 'William Bradford Huie'\n",
      " 'Stieg Larsson' 'Suzanne Collins' 'Alexander Alexandrovich Fadeyev'\n",
      " 'Spencer Johnson' 'Stephen Hawking'\n",
      " 'Jacques-Henri Bernardin de Saint-Pierre' 'Irving Stone'\n",
      " 'Kenneth Grahame' 'Stephen R. Covey' 'Mikhail Sholokhov' 'James Redfield'\n",
      " 'John Green' 'William P. Young' 'Sergey Mikhalkov' 'Mario Puzo'\n",
      " 'Erich Segal' 'Banana Yoshimoto' 'Ivan Yefremov' 'Paramahansa Yogananda'\n",
      " 'Gillian Flynn' 'Paula Hawkins' 'Erich Maria Remarque' 'Charles Berlitz'\n",
      " 'Chinua Achebe' 'Jiang Rong' 'Xaviera Hollander' 'Peter Benchley'\n",
      " 'Robert Munsch' 'Marilyn French' 'Arlene Eisenberg and Heidi Murkoff'\n",
      " 'Mark Twain' 'Sue Townsend' 'Jane Austen' 'Thor Heyerdahl'\n",
      " 'Jaroslav Hašek' 'Maurice Sendak' 'Norman Vincent Peale' 'Rhonda Byrne'\n",
      " 'Erica Jong' 'Frank Herbert' 'Roald Dahl' 'Desmond Morris'\n",
      " 'Tetsuko Kuroyanagi' 'Markus Zusak' 'Nicholas Evans'\n",
      " 'Margaret Wise Brown' 'Michael Ende' 'E. L. James' 'S. E. Hinton'\n",
      " 'Sam McBratney' 'James Clavell' 'Janette Sebring Lowrey' 'Ken Follett'\n",
      " 'Dale Carnegie' 'Patrick Süskind' 'John Steinbeck' 'Carlos Ruiz Zafón'\n",
      " 'Jhumpa Lahiri' 'Douglas Adams' 'Mitch Albom' 'Erskine Caldwell'\n",
      " 'Susanna Tamaro' \"Madeleine L'Engle\" 'Nelson Mandela' 'Ernest Hemingway'\n",
      " 'Raymond Moody' 'Adolf Hitler' 'Jojo Moyes' 'Haruki Murakami'\n",
      " 'Grace Metalious' 'Albert Camus' 'Osamu Dazai' 'Viktor Frankl'\n",
      " 'Dante Alighieri' 'Michelle Obama' 'Kahlil Gibran' 'William Peter Blatty'\n",
      " 'Julia Donaldson' 'Astrid Lindgren' 'Dr. Seuss' 'Andrew Morton'\n",
      " 'Kathryn Stockett' 'Joseph Heller' 'Alice Sebold' 'Jung Chang'\n",
      " 'Tomás Eloy Martínez' 'Elie Wiesel' 'Yu Dan' 'Marabel Morgan'\n",
      " 'Taichi Sakaiya' 'Xue Muqiao' 'Richard Nelson Bolles' 'Pierre Dukan'\n",
      " 'Alex Comfort' 'Robert L. Short' 'Yann Martel' 'Lois Lowry'\n",
      " 'Patricia Nell Warren' 'Eliyahu M. Goldratt' 'Ray Bradbury'\n",
      " 'Frank McCourt' 'Mohandas Karamchand Gandhi']\n",
      "\n",
      "'original language' has 17 classes.\n",
      " ['English' 'Italian' 'Portuguese' 'Spanish' 'Swiss German' 'Norwegian'\n",
      " 'Russian' 'Dutch' 'Swedish' 'French' 'Japanese' 'Hindi' 'German'\n",
      " 'Chinese' 'Czech' 'Yiddish' 'Gujarati']\n",
      "\n",
      "'first published' has 89 classes.\n",
      " [1950 1887 1881 2003 1998 1999 2000 2005 2007 1988 1951 1992 1880 1984\n",
      " 1967 1955 1946 1908 1877 1980 1975 1972 1976 1952 1902 1970 1969 1899\n",
      " 1960 1979 1991 1932 1869 1947 1977 2002 1966 1925 1936 1938 1949 2009\n",
      " 2008 1945 1788 1934 1989 1935 1993 2012 2010 1957 2015 1929 1974 1958\n",
      " 2004 1971 1986 1885 1982 1813 1923 1963 2006 1973 1965 1964 1968 1981\n",
      " 1995 2011 1994 1942 1985 1939 2001 1997 1933 1962 1987 1956 1948 1304\n",
      " 2018 1961 1978 1953 1996]\n",
      "\n",
      "'sales' has 43 classes.\n",
      " [85.  83.  80.  77.  65.  60.  50.  45.  44.  43.  40.  39.  37.  36.4\n",
      " 36.  35.  33.  31.5 31.  30.  29.  26.  25.  24.  23.  22.  21.  20.\n",
      " 18.  17.  16.  15.2 15.  14.  13.  12.5 12.  12.1 11.  11.5 10.5 10.4\n",
      " 10. ]\n"
     ]
    }
   ],
   "source": [
    "# Now I want to look at the other variables to see how many unique values they have\n",
    "for var in books: # Loops through each variable in the list I just created\n",
    "    classes = books[var].unique() # For each variable in the list, the unique classes will be returned.\n",
    "    num = books[var].nunique() # For each variable, the number of the unique classes will be returned.\n",
    "    print(\"\\n'{}' has {} classes.\\n {}\".format(var, num, classes))"
   ]
  },
  {
   "cell_type": "markdown",
   "metadata": {},
   "source": [
    "There are no duplicates as all book titles are unique. However, I do want to remove the parts of the title that are enclosed in parentheses and convert to lowercase. "
   ]
  },
  {
   "cell_type": "code",
   "execution_count": 49,
   "metadata": {},
   "outputs": [],
   "source": [
    "books['title'] = books['title'].apply(lambda x: x.split(' (')[0])\n",
    "books['title_lower'] = books['title'].apply(lambda x: x.replace(',', '').lower())"
   ]
  },
  {
   "cell_type": "code",
   "execution_count": 50,
   "metadata": {},
   "outputs": [
    {
     "data": {
      "image/png": "[encoded data removed]",
      "text/plain": [
       "<Figure size 1440x720 with 2 Axes>"
      ]
     },
     "metadata": {
      "needs_background": "light"
     },
     "output_type": "display_data"
    }
   ],
   "source": [
    "# I want to plot histograms of the numerical data\n",
    "import matplotlib.pyplot as plt\n",
    "import seaborn as sns\n",
    "\n",
    "num_data = ['first published', 'sales']\n",
    "\n",
    "fig, axes = plt.subplots(nrows=1, ncols=2, figsize=(20,10))\n",
    "fig.subplots_adjust(hspace=0.2, wspace=0.3)\n",
    "sns.set_style(style='whitegrid')\n",
    "for var, ax in zip(num_data, axes.flatten()):\n",
    "    sns.histplot(data=books, x=var, ax=ax, color='darkslateblue')"
   ]
  },
  {
   "cell_type": "code",
   "execution_count": 52,
   "metadata": {},
   "outputs": [
    {
     "data": {
      "text/html": [
       "<div>\n",
       "<style scoped>\n",
       "    .dataframe tbody tr th:only-of-type {\n",
       "        vertical-align: middle;\n",
       "    }\n",
       "\n",
       "    .dataframe tbody tr th {\n",
       "        vertical-align: top;\n",
       "    }\n",
       "\n",
       "    .dataframe thead th {\n",
       "        text-align: right;\n",
       "    }\n",
       "</style>\n",
       "<table border=\"1\" class=\"dataframe\">\n",
       "  <thead>\n",
       "    <tr style=\"text-align: right;\">\n",
       "      <th></th>\n",
       "      <th>title</th>\n",
       "      <th>authors</th>\n",
       "      <th>original language</th>\n",
       "      <th>first published</th>\n",
       "      <th>sales</th>\n",
       "      <th>title_lower</th>\n",
       "    </tr>\n",
       "  </thead>\n",
       "  <tbody>\n",
       "    <tr>\n",
       "      <th>128</th>\n",
       "      <td>The Divine Comedy</td>\n",
       "      <td>Dante Alighieri</td>\n",
       "      <td>Italian</td>\n",
       "      <td>1304</td>\n",
       "      <td>11.0</td>\n",
       "      <td>the divine comedy</td>\n",
       "    </tr>\n",
       "  </tbody>\n",
       "</table>\n",
       "</div>"
      ],
      "text/plain": [
       "                 title          authors original language  first published  \\\n",
       "128  The Divine Comedy  Dante Alighieri           Italian             1304   \n",
       "\n",
       "     sales        title_lower  \n",
       "128   11.0  the divine comedy  "
      ]
     },
     "execution_count": 52,
     "metadata": {},
     "output_type": "execute_result"
    }
   ],
   "source": [
    "books[books['first published']<1400]"
   ]
  },
  {
   "cell_type": "markdown",
   "metadata": {},
   "source": [
    "The only outlier seemed to be the book first published in 1304. However, I was able to confirm this value is correct through a quick internet search."
   ]
  },
  {
   "cell_type": "code",
   "execution_count": 53,
   "metadata": {},
   "outputs": [],
   "source": [
    "# Then, I will save the clean data as a CSV file\n",
    "book.to_csv('clean_wikibooks.csv', sep=',', index=False)"
   ]
  }
 ],
 "metadata": {
  "kernelspec": {
   "display_name": "Python 3",
   "language": "python",
   "name": "python3"
  },
  "language_info": {
   "codemirror_mode": {
    "name": "ipython",
    "version": 3
   },
   "file_extension": ".py",
   "mimetype": "text/x-python",
   "name": "python",
   "nbconvert_exporter": "python",
   "pygments_lexer": "ipython3",
   "version": "3.7.1"
  },
  "latex_envs": {
   "LaTeX_envs_menu_present": true,
   "autoclose": false,
   "autocomplete": true,
   "bibliofile": "biblio.bib",
   "cite_by": "apalike",
   "current_citInitial": 1,
   "eqLabelWithNumbers": true,
   "eqNumInitial": 1,
   "hotkeys": {
    "equation": "Ctrl-E",
    "itemize": "Ctrl-I"
   },
   "labels_anchors": false,
   "latex_user_defs": false,
   "report_style_numbering": false,
   "user_envs_cfg": false
  },
  "toc": {
   "base_numbering": 1,
   "nav_menu": {},
   "number_sections": false,
   "sideBar": true,
   "skip_h1_title": false,
   "title_cell": "Table of Contents",
   "title_sidebar": "Contents",
   "toc_cell": false,
   "toc_position": {},
   "toc_section_display": true,
   "toc_window_display": false
  }
 },
 "nbformat": 4,
 "nbformat_minor": 4
}

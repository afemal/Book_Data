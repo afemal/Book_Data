{
 "cells": [
  {
   "cell_type": "markdown",
   "metadata": {},
   "source": [
    "# Connecting to an API/Pulling in the Data and Cleaning/Formatting"
   ]
  },
  {
   "cell_type": "code",
   "execution_count": 35,
   "metadata": {},
   "outputs": [],
   "source": [
    "import requests\n",
    "import json\n",
    "import pandas as pd\n",
    "import numpy as np"
   ]
  },
  {
   "cell_type": "markdown",
   "metadata": {},
   "source": [
    "**The following can be skipped by using the booksAPI.csv file**"
   ]
  },
  {
   "cell_type": "code",
   "execution_count": 2,
   "metadata": {
    "scrolled": true
   },
   "outputs": [
    {
     "name": "stderr",
     "output_type": "stream",
     "text": [
      "b'Skipping line 3350: expected 12 fields, saw 13\\nSkipping line 4704: expected 12 fields, saw 13\\nSkipping line 5879: expected 12 fields, saw 13\\nSkipping line 8981: expected 12 fields, saw 13\\n'\n"
     ]
    }
   ],
   "source": [
    "books = pd.read_csv('books.csv', error_bad_lines=False)\n",
    "\n",
    "# There is a space in the column num_pages\n",
    "books.rename(columns=lambda x: x.strip(), inplace=True)\n",
    "\n",
    "# list of isbn numbers to access\n",
    "isbn = books['isbn13'].to_list()\n",
    "\n",
    "# Used to pull data from API in chunks of 500  \n",
    "isbn1 = isbn[:500] \n",
    "isbn2 = isbn[500:1000] \n",
    "isbn3 = isbn[1000:1500] \n",
    "isbn4 = isbn[1500:2000] \n",
    "isbn5 = isbn[2000:2500] \n",
    "isbn6 = isbn[2500:3000] \n",
    "isbn7 = isbn[3000:3500] \n",
    "isbn8 = isbn[3500:4000] \n",
    "isbn9 = isbn[4000:4500]\n",
    "isbn10 = isbn[4500:5000]\n",
    "isbn11 = isbn[5000:5500] \n",
    "isbn12 = isbn[5500:6000] \n",
    "isbn13 = isbn[6000:6500]\n",
    "isbn14 = isbn[6500:7000] \n",
    "isbn15 = isbn[7000:7500] \n",
    "isbn16 = isbn[7500:8000]\n",
    "isbn17 = isbn[8000:8500] \n",
    "isbn18 = isbn[8500:9000] \n",
    "isbn19 = isbn[9000:9500] \n",
    "isbn20 = isbn[9500:10000] \n",
    "isbn21 = isbn[10000:10500] \n",
    "isbn22 = isbn[10500:11000]\n",
    "isbn23 = isbn[11000:]\n",
    "\n",
    "keys = ['info_url', 'bib_key', 'preview_url', 'thumbnail_url', 'preview']\n",
    "\n",
    "lst = []\n",
    "# For each channel, we access its information through its API\n",
    "for book in isbn23:\n",
    "    url = 'https://openlibrary.org/api/books?bibkeys=ISBN:{}&jscmd=details&format=json'.format(book)\n",
    "    JSONContent = requests.request('GET', url)\n",
    "    data = json.loads(JSONContent.text)\n",
    "\n",
    "    for key in keys:\n",
    "        try:\n",
    "            lst.append(data['ISBN:{}'.format(book)][key])\n",
    "        except KeyError:\n",
    "            lst.append('NaN')\n",
    "\n",
    "a = np.array(lst)\n",
    "b = a.reshape(len(isbn23), len(keys))\n",
    "df = pd.DataFrame(b, columns = keys)\n",
    "\n",
    "\n",
    "details = ['isbn_13', 'title', 'latest_revision', 'revision', 'edition_name', 'genres', 'languages', 'subjects', \n",
    "           'publish_country', 'by_statement', 'revision', 'other_titles', 'publishers', 'last_modified', 'authors', \n",
    "           'publish_places', 'created', 'notes', 'number_of_pages', 'publish_date', 'series', \n",
    "           'physical_format', 'description']\n",
    "\n",
    "lst = []\n",
    "# For each channel, we access its information through its API\n",
    "for book in isbn23:\n",
    "    url = 'https://openlibrary.org/api/books?bibkeys=ISBN:{}&jscmd=details&format=json'.format(book)\n",
    "    JSONContent = requests.request('GET', url)\n",
    "    data = json.loads(JSONContent.text)\n",
    "\n",
    "    for key in details:\n",
    "        try:\n",
    "            lst.append(data['ISBN:{}'.format(book)]['details'][key])\n",
    "        except KeyError:\n",
    "            lst.append('NaN')\n",
    "\n",
    "a = np.array(lst)\n",
    "b = a.reshape(len(isbn23), len(details))\n",
    "df2 = pd.DataFrame(b, columns = details)\n",
    "\n",
    "# Used to create a csv file with the API data so this process did not have to be repeated\n",
    "new2 = pd.concat([df, df2], axis=1) \n",
    "new2.to_csv('booksAPI_2.csv', sep=',', index=False)\n",
    "first = pd.read_csv('booksAPI.csv')\n",
    "second = pd.read_csv('booksAPI_2.csv')\n",
    "a = pd.concat([first, second])\n",
    "a.to_csv('booksAPI.csv', sep=',', index=False)"
   ]
  },
  {
   "cell_type": "code",
   "execution_count": 36,
   "metadata": {},
   "outputs": [],
   "source": [
    "# The CSV file of the API data\n",
    "df = pd.read_csv('booksAPI.csv')"
   ]
  },
  {
   "cell_type": "code",
   "execution_count": 37,
   "metadata": {},
   "outputs": [
    {
     "data": {
      "text/plain": [
       "Index(['info_url', 'bib_key', 'preview_url', 'thumbnail_url', 'preview',\n",
       "       'isbn_13', 'title', 'latest_revision', 'revision', 'edition_name',\n",
       "       'genres', 'languages', 'subjects', 'publish_country', 'by_statement',\n",
       "       'revision.1', 'other_titles', 'publishers', 'last_modified', 'authors',\n",
       "       'publish_places', 'created', 'notes', 'number_of_pages', 'publish_date',\n",
       "       'series', 'physical_format', 'description'],\n",
       "      dtype='object')"
      ]
     },
     "execution_count": 37,
     "metadata": {},
     "output_type": "execute_result"
    }
   ],
   "source": [
    "df.columns"
   ]
  },
  {
   "cell_type": "code",
   "execution_count": 38,
   "metadata": {},
   "outputs": [
    {
     "data": {
      "text/html": [
       "<div>\n",
       "<style scoped>\n",
       "    .dataframe tbody tr th:only-of-type {\n",
       "        vertical-align: middle;\n",
       "    }\n",
       "\n",
       "    .dataframe tbody tr th {\n",
       "        vertical-align: top;\n",
       "    }\n",
       "\n",
       "    .dataframe thead th {\n",
       "        text-align: right;\n",
       "    }\n",
       "</style>\n",
       "<table border=\"1\" class=\"dataframe\">\n",
       "  <thead>\n",
       "    <tr style=\"text-align: right;\">\n",
       "      <th></th>\n",
       "      <th>latest_revision</th>\n",
       "      <th>revision</th>\n",
       "      <th>revision.1</th>\n",
       "      <th>number_of_pages</th>\n",
       "    </tr>\n",
       "  </thead>\n",
       "  <tbody>\n",
       "    <tr>\n",
       "      <th>count</th>\n",
       "      <td>10945.000000</td>\n",
       "      <td>10945.000000</td>\n",
       "      <td>10945.000000</td>\n",
       "      <td>9460.000000</td>\n",
       "    </tr>\n",
       "    <tr>\n",
       "      <th>mean</th>\n",
       "      <td>8.356510</td>\n",
       "      <td>8.356510</td>\n",
       "      <td>8.356510</td>\n",
       "      <td>340.399471</td>\n",
       "    </tr>\n",
       "    <tr>\n",
       "      <th>std</th>\n",
       "      <td>3.464957</td>\n",
       "      <td>3.464957</td>\n",
       "      <td>3.464957</td>\n",
       "      <td>226.567029</td>\n",
       "    </tr>\n",
       "    <tr>\n",
       "      <th>min</th>\n",
       "      <td>1.000000</td>\n",
       "      <td>1.000000</td>\n",
       "      <td>1.000000</td>\n",
       "      <td>1.000000</td>\n",
       "    </tr>\n",
       "    <tr>\n",
       "      <th>25%</th>\n",
       "      <td>6.000000</td>\n",
       "      <td>6.000000</td>\n",
       "      <td>6.000000</td>\n",
       "      <td>202.000000</td>\n",
       "    </tr>\n",
       "    <tr>\n",
       "      <th>50%</th>\n",
       "      <td>8.000000</td>\n",
       "      <td>8.000000</td>\n",
       "      <td>8.000000</td>\n",
       "      <td>302.500000</td>\n",
       "    </tr>\n",
       "    <tr>\n",
       "      <th>75%</th>\n",
       "      <td>10.000000</td>\n",
       "      <td>10.000000</td>\n",
       "      <td>10.000000</td>\n",
       "      <td>416.000000</td>\n",
       "    </tr>\n",
       "    <tr>\n",
       "      <th>max</th>\n",
       "      <td>68.000000</td>\n",
       "      <td>68.000000</td>\n",
       "      <td>68.000000</td>\n",
       "      <td>4736.000000</td>\n",
       "    </tr>\n",
       "  </tbody>\n",
       "</table>\n",
       "</div>"
      ],
      "text/plain": [
       "       latest_revision      revision    revision.1  number_of_pages\n",
       "count     10945.000000  10945.000000  10945.000000      9460.000000\n",
       "mean          8.356510      8.356510      8.356510       340.399471\n",
       "std           3.464957      3.464957      3.464957       226.567029\n",
       "min           1.000000      1.000000      1.000000         1.000000\n",
       "25%           6.000000      6.000000      6.000000       202.000000\n",
       "50%           8.000000      8.000000      8.000000       302.500000\n",
       "75%          10.000000     10.000000     10.000000       416.000000\n",
       "max          68.000000     68.000000     68.000000      4736.000000"
      ]
     },
     "execution_count": 38,
     "metadata": {},
     "output_type": "execute_result"
    }
   ],
   "source": [
    "df.describe()"
   ]
  },
  {
   "cell_type": "code",
   "execution_count": 39,
   "metadata": {},
   "outputs": [],
   "source": [
    "# latest_revision, revision, and revision.1 are the same values. I will remove two of them.\n",
    "df.drop(columns=['latest_revision', 'revision.1'], axis=1, inplace=True)"
   ]
  },
  {
   "cell_type": "code",
   "execution_count": 40,
   "metadata": {},
   "outputs": [],
   "source": [
    "# I want to number_of_pages to num_pages and physical format to format.\n",
    "df.rename(columns={'number_of_pages': 'pages', 'physical_format': 'format'}, inplace=True)"
   ]
  },
  {
   "cell_type": "code",
   "execution_count": 41,
   "metadata": {},
   "outputs": [
    {
     "data": {
      "text/plain": [
       "info_url             153\n",
       "bib_key              153\n",
       "preview_url          153\n",
       "thumbnail_url       1791\n",
       "preview              153\n",
       "isbn_13             4551\n",
       "title                154\n",
       "revision             153\n",
       "edition_name        7652\n",
       "genres              8904\n",
       "languages           1327\n",
       "subjects            3511\n",
       "publish_country     5400\n",
       "by_statement        5555\n",
       "other_titles       10273\n",
       "publishers           191\n",
       "last_modified        153\n",
       "authors              932\n",
       "publish_places      5181\n",
       "created              184\n",
       "notes               7315\n",
       "pages               1638\n",
       "publish_date         315\n",
       "series              8916\n",
       "format              7419\n",
       "description        10025\n",
       "dtype: int64"
      ]
     },
     "execution_count": 41,
     "metadata": {},
     "output_type": "execute_result"
    }
   ],
   "source": [
    "# Check for missing data\n",
    "df.isnull().sum()"
   ]
  },
  {
   "cell_type": "code",
   "execution_count": 42,
   "metadata": {},
   "outputs": [],
   "source": [
    "# Many of the variables are missing 153 values. I am going to delete any observations that do not have a title.\n",
    "df.dropna(subset=['title'], inplace=True)"
   ]
  },
  {
   "cell_type": "code",
   "execution_count": 43,
   "metadata": {},
   "outputs": [],
   "source": [
    "# Now I want to format some of the data.\n",
    "# Extract the author from 'authors'\n",
    "df['author'] = df['authors'].apply(lambda x: np.nan if pd.isnull(x) else x.split(':')[1].split(',')[0].replace(\"'\",''))\n",
    "\n",
    "# The bib_key variable is the ISBN number. I want to remove \"ISBN:\" from the values\n",
    "df['isbn13'] = df['bib_key'].apply(lambda x: int(x.split(':')[1]))\n",
    "\n",
    "# Extract date from created.\n",
    "df['created'] = df['created'].apply(lambda x: np.nan if pd.isnull(x) \n",
    "                                      else x.split(\"'value':\")[-1].replace(\"'\", '').replace('}', ''))\n",
    "\n",
    "# Extract date last modified\n",
    "df['modified'] = df['last_modified'].apply(lambda x: np.nan if pd.isnull(x) \n",
    "                                      else x.split(\"'value':\")[-1].replace(\"'\", '').replace('}', ''))\n",
    "\n",
    "# Extract the book description \n",
    "df['description'] = df['description'].apply(lambda x: np.nan if pd.isnull(x) \n",
    "                                     else x.split(\"'value':\")[-1].replace('\"','').replace(\"'\",'').replace('}','').lstrip())\n",
    "\n",
    "# Extract the publishers\n",
    "df['publishers'] = df['publishers'].apply(lambda x: np.nan if pd.isnull(x) \n",
    "                                          else x.replace('[','').replace(']','').replace(\"'\",''))\n",
    "\n",
    "# Exract genre\n",
    "df['genres'] = df['genres'].apply(lambda x: np.nan if pd.isnull(x) \n",
    "                                          else x.replace('[','').replace(']','').replace(\"'\",'').replace('.','').lower())\n",
    "\n",
    "# Extract language\n",
    "df['languages'] = df['languages'].apply(lambda x: np.nan if pd.isnull(x) \n",
    "                                          else x.split('/')[-1].replace('}','').replace(']','').replace(\"'\",''))\n",
    "\n",
    "# Format book format\n",
    "df['format'] = df['format'].apply(lambda x: np.nan if pd.isnull(x) else x.lower())\n",
    "\n",
    "# Format notes\n",
    "df['notes'] = df['notes'].apply(lambda x: np.nan if pd.isnull(x) \n",
    "                                     else x.split(\"'value':\")[-1].replace('\"','').replace(\"'\",'').replace('}','').lstrip())\n",
    "\n",
    "# Format subjects\n",
    "df['subjects'] = df['subjects'].apply(lambda x: np.nan if pd.isnull(x) \n",
    "                                          else x.strip('[]').replace(\"'\",''))"
   ]
  },
  {
   "cell_type": "code",
   "execution_count": 44,
   "metadata": {},
   "outputs": [],
   "source": [
    "# Now, I can drop authors, isbn_13, bib_key, and last_modified. I also want to remove other_titles, edition_name, \n",
    "# publish_places, series since most of the values are missing and by_statement as it contains the author name.  \n",
    "df.drop(columns=['authors', 'isbn_13', 'bib_key','last_modified', 'publish_places', 'series', 'other_titles', \n",
    "                 'edition_name', 'by_statement'], axis=1, inplace=True)"
   ]
  },
  {
   "cell_type": "code",
   "execution_count": 45,
   "metadata": {},
   "outputs": [
    {
     "name": "stdout",
     "output_type": "stream",
     "text": [
      "info_url 10903\n",
      "preview_url 10903\n",
      "thumbnail_url 9255\n",
      "preview 4\n",
      "title 10176\n",
      "revision 38\n",
      "genres 168\n",
      "languages 20\n",
      "subjects 6941\n",
      "publish_country 77\n",
      "publishers 2563\n",
      "created 3499\n",
      "notes 2891\n",
      "pages 966\n",
      "publish_date 2288\n",
      "format 35\n",
      "description 1062\n",
      "author 4002\n",
      "isbn13 10944\n",
      "modified 10285\n"
     ]
    }
   ],
   "source": [
    "# I want to see how many unique values for each variable\n",
    "for var in df.columns:\n",
    "    num = df[var].nunique()\n",
    "    print(var, num)"
   ]
  },
  {
   "cell_type": "code",
   "execution_count": 46,
   "metadata": {},
   "outputs": [],
   "source": [
    "# convert created and modified from a string to datetime\n",
    "import datetime\n",
    "df['created'] = pd.to_datetime(df['created'], format='%Y/%m/%d', errors='coerce')\n",
    "df['modified'] = pd.to_datetime(df['modified'], format='%Y/%m/%d', errors='coerce')\n",
    "\n",
    "# Extract the year from publish_date\n",
    "df['year'] = df['publish_date'].apply(lambda x: np.nan if pd.isnull(x) else re.findall('\\d{4}', x))\n",
    "df['year'] = df['year'].apply(lambda x: str(x).strip('[]').replace(\"'\",''))\n",
    "df['year'] = pd.to_numeric(df['year'], errors='coerce')# I want to make it an integer. It is a float\n",
    "\n",
    "# Remove publish_date\n",
    "df.drop(columns=['publish_date'], axis=1, inplace=True)"
   ]
  },
  {
   "cell_type": "code",
   "execution_count": 47,
   "metadata": {},
   "outputs": [
    {
     "data": {
      "text/plain": [
       "array(['paperback', 'trade paperback', 'hardcover', nan, 'audio cd',\n",
       "       'mass market paperback', 'school & library binding',\n",
       "       'unknown binding', 'comic', 'texte imprimé', 'ebook (kindle)',\n",
       "       'leather bound', 'mp3 cd', 'electronic resource', 'board book',\n",
       "       'softcover', 'library binding', 'digital audio', 'large print',\n",
       "       'pamphlet', 'audio cassette', 'turtleback', 'cd-rom',\n",
       "       'paperback; hardcover', 'spiral-bound', 'multimedia', 'erotica',\n",
       "       'three hardcover with slipcase, hardcover',\n",
       "       '[electronic resource] /', 'flexibound', 'oversize paperback',\n",
       "       'ebook', 'hard cover', 'audio book', '[electronic resource]',\n",
       "       'hardcover (gibraltar library binding)'], dtype=object)"
      ]
     },
     "execution_count": 47,
     "metadata": {},
     "output_type": "execute_result"
    }
   ],
   "source": [
    "# I want to look closer into the format variable\n",
    "df['format'].unique()"
   ]
  },
  {
   "cell_type": "code",
   "execution_count": 48,
   "metadata": {},
   "outputs": [],
   "source": [
    "# I want to narrow down the format types to paperback, audio, hardcover, ebook, and unknown\n",
    "df['format'].replace(['trade paperback', 'softcover', 'mass market paperback', 'paperback; hardcover', 'flexibound',\n",
    "                       'oversize paperback'], 'paperback', inplace=True)\n",
    "\n",
    "df['format'].replace(['audio cd', 'mp3 cd', 'digital audio', 'audio cassette', 'audio book', ], 'audio', inplace=True)\n",
    "                      \n",
    "    \n",
    "df['format'].replace(['school & library binding', 'leather bound', \"hardcover'\", 'three hardcover with slipcase, hardcover', \n",
    "                       'hardcover (gibraltar library binding)', 'hard cover', 'turtleback', 'board book', 'library binding'], \n",
    "                     'hardcover', inplace=True)\n",
    "\n",
    "df['format'].replace(['ebook (kindle)', '[electronic resource] /', 'electronic resource', \n",
    "                      '[electronic resource]', 'cd-rom', 'multimedia'], 'ebook', inplace=True)\n",
    "\n",
    "df['format'].replace([np.nan, 'unknown binding', 'texte imprimé', 'large print', 'spiral-bound', 'erotica', \n",
    "                      'pamphlet', 'comic'], 'unknown', inplace=True)"
   ]
  },
  {
   "cell_type": "code",
   "execution_count": 49,
   "metadata": {},
   "outputs": [],
   "source": [
    "# I want to remove text in parentheses from the titles and convert them to lowercase\n",
    "df['title'] = df['title'].apply(lambda x: x.split(' (')[0])\n",
    "df['title_lower'] = df['title'].apply(lambda x: x.replace(',', '').lower())"
   ]
  },
  {
   "cell_type": "code",
   "execution_count": 50,
   "metadata": {},
   "outputs": [],
   "source": [
    "# Then, I will save the clean data as a CSV file\n",
    "df.to_csv('clean_apibooks.csv', sep=',', index=False)"
   ]
  }
 ],
 "metadata": {
  "kernelspec": {
   "display_name": "Python 3",
   "language": "python",
   "name": "python3"
  },
  "language_info": {
   "codemirror_mode": {
    "name": "ipython",
    "version": 3
   },
   "file_extension": ".py",
   "mimetype": "text/x-python",
   "name": "python",
   "nbconvert_exporter": "python",
   "pygments_lexer": "ipython3",
   "version": "3.7.1"
  },
  "latex_envs": {
   "LaTeX_envs_menu_present": true,
   "autoclose": false,
   "autocomplete": true,
   "bibliofile": "biblio.bib",
   "cite_by": "apalike",
   "current_citInitial": 1,
   "eqLabelWithNumbers": true,
   "eqNumInitial": 1,
   "hotkeys": {
    "equation": "Ctrl-E",
    "itemize": "Ctrl-I"
   },
   "labels_anchors": false,
   "latex_user_defs": false,
   "report_style_numbering": false,
   "user_envs_cfg": false
  },
  "toc": {
   "base_numbering": 1,
   "nav_menu": {},
   "number_sections": false,
   "sideBar": true,
   "skip_h1_title": false,
   "title_cell": "Table of Contents",
   "title_sidebar": "Contents",
   "toc_cell": false,
   "toc_position": {},
   "toc_section_display": true,
   "toc_window_display": false
  }
 },
 "nbformat": 4,
 "nbformat_minor": 4
}

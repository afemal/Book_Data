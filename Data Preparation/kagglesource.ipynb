{
 "cells": [
  {
   "cell_type": "markdown",
   "metadata": {},
   "source": [
    "# Cleaning/Formatting Flat Data Source"
   ]
  },
  {
   "cell_type": "code",
   "execution_count": 1,
   "metadata": {},
   "outputs": [],
   "source": [
    "import pandas as pd\n",
    "import matplotlib.pyplot as plt"
   ]
  },
  {
   "cell_type": "code",
   "execution_count": 2,
   "metadata": {},
   "outputs": [
    {
     "name": "stderr",
     "output_type": "stream",
     "text": [
      "b'Skipping line 3350: expected 12 fields, saw 13\\nSkipping line 4704: expected 12 fields, saw 13\\nSkipping line 5879: expected 12 fields, saw 13\\nSkipping line 8981: expected 12 fields, saw 13\\n'\n"
     ]
    }
   ],
   "source": [
    "books = pd.read_csv('books.csv', error_bad_lines=False)"
   ]
  },
  {
   "cell_type": "code",
   "execution_count": 3,
   "metadata": {
    "scrolled": true
   },
   "outputs": [
    {
     "data": {
      "text/plain": [
       "(11123, 12)"
      ]
     },
     "execution_count": 3,
     "metadata": {},
     "output_type": "execute_result"
    }
   ],
   "source": [
    "books.shape # 4 books were skipped due to errors of the csv. D needs to be combined with C column"
   ]
  },
  {
   "cell_type": "code",
   "execution_count": 4,
   "metadata": {},
   "outputs": [
    {
     "data": {
      "text/plain": [
       "Index(['bookID', 'title', 'authors', 'average_rating', 'isbn', 'isbn13',\n",
       "       'language_code', '  num_pages', 'ratings_count', 'text_reviews_count',\n",
       "       'publication_date', 'publisher'],\n",
       "      dtype='object')"
      ]
     },
     "execution_count": 4,
     "metadata": {},
     "output_type": "execute_result"
    }
   ],
   "source": [
    "books.columns"
   ]
  },
  {
   "cell_type": "code",
   "execution_count": 5,
   "metadata": {},
   "outputs": [],
   "source": [
    "# There is a space in the column num_pages\n",
    "books.rename(columns=lambda x: x.strip(), inplace=True)"
   ]
  },
  {
   "cell_type": "code",
   "execution_count": 6,
   "metadata": {},
   "outputs": [
    {
     "data": {
      "text/html": [
       "<div>\n",
       "<style scoped>\n",
       "    .dataframe tbody tr th:only-of-type {\n",
       "        vertical-align: middle;\n",
       "    }\n",
       "\n",
       "    .dataframe tbody tr th {\n",
       "        vertical-align: top;\n",
       "    }\n",
       "\n",
       "    .dataframe thead th {\n",
       "        text-align: right;\n",
       "    }\n",
       "</style>\n",
       "<table border=\"1\" class=\"dataframe\">\n",
       "  <thead>\n",
       "    <tr style=\"text-align: right;\">\n",
       "      <th></th>\n",
       "      <th>bookID</th>\n",
       "      <th>title</th>\n",
       "      <th>authors</th>\n",
       "      <th>average_rating</th>\n",
       "      <th>isbn</th>\n",
       "      <th>isbn13</th>\n",
       "      <th>language_code</th>\n",
       "      <th>num_pages</th>\n",
       "      <th>ratings_count</th>\n",
       "      <th>text_reviews_count</th>\n",
       "      <th>publication_date</th>\n",
       "      <th>publisher</th>\n",
       "    </tr>\n",
       "  </thead>\n",
       "  <tbody>\n",
       "    <tr>\n",
       "      <th>0</th>\n",
       "      <td>1</td>\n",
       "      <td>Harry Potter and the Half-Blood Prince (Harry ...</td>\n",
       "      <td>J.K. Rowling/Mary GrandPré</td>\n",
       "      <td>4.57</td>\n",
       "      <td>0439785960</td>\n",
       "      <td>9780439785969</td>\n",
       "      <td>eng</td>\n",
       "      <td>652</td>\n",
       "      <td>2095690</td>\n",
       "      <td>27591</td>\n",
       "      <td>9/16/2006</td>\n",
       "      <td>Scholastic Inc.</td>\n",
       "    </tr>\n",
       "    <tr>\n",
       "      <th>1</th>\n",
       "      <td>2</td>\n",
       "      <td>Harry Potter and the Order of the Phoenix (Har...</td>\n",
       "      <td>J.K. Rowling/Mary GrandPré</td>\n",
       "      <td>4.49</td>\n",
       "      <td>0439358078</td>\n",
       "      <td>9780439358071</td>\n",
       "      <td>eng</td>\n",
       "      <td>870</td>\n",
       "      <td>2153167</td>\n",
       "      <td>29221</td>\n",
       "      <td>9/1/2004</td>\n",
       "      <td>Scholastic Inc.</td>\n",
       "    </tr>\n",
       "    <tr>\n",
       "      <th>2</th>\n",
       "      <td>4</td>\n",
       "      <td>Harry Potter and the Chamber of Secrets (Harry...</td>\n",
       "      <td>J.K. Rowling</td>\n",
       "      <td>4.42</td>\n",
       "      <td>0439554896</td>\n",
       "      <td>9780439554893</td>\n",
       "      <td>eng</td>\n",
       "      <td>352</td>\n",
       "      <td>6333</td>\n",
       "      <td>244</td>\n",
       "      <td>11/1/2003</td>\n",
       "      <td>Scholastic</td>\n",
       "    </tr>\n",
       "    <tr>\n",
       "      <th>3</th>\n",
       "      <td>5</td>\n",
       "      <td>Harry Potter and the Prisoner of Azkaban (Harr...</td>\n",
       "      <td>J.K. Rowling/Mary GrandPré</td>\n",
       "      <td>4.56</td>\n",
       "      <td>043965548X</td>\n",
       "      <td>9780439655484</td>\n",
       "      <td>eng</td>\n",
       "      <td>435</td>\n",
       "      <td>2339585</td>\n",
       "      <td>36325</td>\n",
       "      <td>5/1/2004</td>\n",
       "      <td>Scholastic Inc.</td>\n",
       "    </tr>\n",
       "    <tr>\n",
       "      <th>4</th>\n",
       "      <td>8</td>\n",
       "      <td>Harry Potter Boxed Set  Books 1-5 (Harry Potte...</td>\n",
       "      <td>J.K. Rowling/Mary GrandPré</td>\n",
       "      <td>4.78</td>\n",
       "      <td>0439682584</td>\n",
       "      <td>9780439682589</td>\n",
       "      <td>eng</td>\n",
       "      <td>2690</td>\n",
       "      <td>41428</td>\n",
       "      <td>164</td>\n",
       "      <td>9/13/2004</td>\n",
       "      <td>Scholastic</td>\n",
       "    </tr>\n",
       "  </tbody>\n",
       "</table>\n",
       "</div>"
      ],
      "text/plain": [
       "   bookID                                              title  \\\n",
       "0       1  Harry Potter and the Half-Blood Prince (Harry ...   \n",
       "1       2  Harry Potter and the Order of the Phoenix (Har...   \n",
       "2       4  Harry Potter and the Chamber of Secrets (Harry...   \n",
       "3       5  Harry Potter and the Prisoner of Azkaban (Harr...   \n",
       "4       8  Harry Potter Boxed Set  Books 1-5 (Harry Potte...   \n",
       "\n",
       "                      authors  average_rating        isbn         isbn13  \\\n",
       "0  J.K. Rowling/Mary GrandPré            4.57  0439785960  9780439785969   \n",
       "1  J.K. Rowling/Mary GrandPré            4.49  0439358078  9780439358071   \n",
       "2                J.K. Rowling            4.42  0439554896  9780439554893   \n",
       "3  J.K. Rowling/Mary GrandPré            4.56  043965548X  9780439655484   \n",
       "4  J.K. Rowling/Mary GrandPré            4.78  0439682584  9780439682589   \n",
       "\n",
       "  language_code  num_pages  ratings_count  text_reviews_count  \\\n",
       "0           eng        652        2095690               27591   \n",
       "1           eng        870        2153167               29221   \n",
       "2           eng        352           6333                 244   \n",
       "3           eng        435        2339585               36325   \n",
       "4           eng       2690          41428                 164   \n",
       "\n",
       "  publication_date        publisher  \n",
       "0        9/16/2006  Scholastic Inc.  \n",
       "1         9/1/2004  Scholastic Inc.  \n",
       "2        11/1/2003       Scholastic  \n",
       "3         5/1/2004  Scholastic Inc.  \n",
       "4        9/13/2004       Scholastic  "
      ]
     },
     "execution_count": 6,
     "metadata": {},
     "output_type": "execute_result"
    }
   ],
   "source": [
    "books.head()"
   ]
  },
  {
   "cell_type": "code",
   "execution_count": 7,
   "metadata": {},
   "outputs": [],
   "source": [
    "# I want to format the date and only keep the year\n",
    "books['publication_year'] = pd.to_datetime(books['publication_date'], format='%m/%d/%Y', errors='coerce')\n",
    "books['publication_year'] = books.publication_year.dt.strftime('%Y')"
   ]
  },
  {
   "cell_type": "code",
   "execution_count": 8,
   "metadata": {},
   "outputs": [
    {
     "data": {
      "text/html": [
       "<div>\n",
       "<style scoped>\n",
       "    .dataframe tbody tr th:only-of-type {\n",
       "        vertical-align: middle;\n",
       "    }\n",
       "\n",
       "    .dataframe tbody tr th {\n",
       "        vertical-align: top;\n",
       "    }\n",
       "\n",
       "    .dataframe thead th {\n",
       "        text-align: right;\n",
       "    }\n",
       "</style>\n",
       "<table border=\"1\" class=\"dataframe\">\n",
       "  <thead>\n",
       "    <tr style=\"text-align: right;\">\n",
       "      <th></th>\n",
       "      <th>title</th>\n",
       "      <th>authors</th>\n",
       "      <th>average_rating</th>\n",
       "      <th>isbn13</th>\n",
       "      <th>language_code</th>\n",
       "      <th>num_pages</th>\n",
       "      <th>ratings_count</th>\n",
       "      <th>text_reviews_count</th>\n",
       "      <th>publisher</th>\n",
       "      <th>publication_year</th>\n",
       "    </tr>\n",
       "  </thead>\n",
       "  <tbody>\n",
       "    <tr>\n",
       "      <th>0</th>\n",
       "      <td>Harry Potter and the Half-Blood Prince (Harry ...</td>\n",
       "      <td>J.K. Rowling/Mary GrandPré</td>\n",
       "      <td>4.57</td>\n",
       "      <td>9780439785969</td>\n",
       "      <td>eng</td>\n",
       "      <td>652</td>\n",
       "      <td>2095690</td>\n",
       "      <td>27591</td>\n",
       "      <td>Scholastic Inc.</td>\n",
       "      <td>2006</td>\n",
       "    </tr>\n",
       "    <tr>\n",
       "      <th>1</th>\n",
       "      <td>Harry Potter and the Order of the Phoenix (Har...</td>\n",
       "      <td>J.K. Rowling/Mary GrandPré</td>\n",
       "      <td>4.49</td>\n",
       "      <td>9780439358071</td>\n",
       "      <td>eng</td>\n",
       "      <td>870</td>\n",
       "      <td>2153167</td>\n",
       "      <td>29221</td>\n",
       "      <td>Scholastic Inc.</td>\n",
       "      <td>2004</td>\n",
       "    </tr>\n",
       "    <tr>\n",
       "      <th>2</th>\n",
       "      <td>Harry Potter and the Chamber of Secrets (Harry...</td>\n",
       "      <td>J.K. Rowling</td>\n",
       "      <td>4.42</td>\n",
       "      <td>9780439554893</td>\n",
       "      <td>eng</td>\n",
       "      <td>352</td>\n",
       "      <td>6333</td>\n",
       "      <td>244</td>\n",
       "      <td>Scholastic</td>\n",
       "      <td>2003</td>\n",
       "    </tr>\n",
       "    <tr>\n",
       "      <th>3</th>\n",
       "      <td>Harry Potter and the Prisoner of Azkaban (Harr...</td>\n",
       "      <td>J.K. Rowling/Mary GrandPré</td>\n",
       "      <td>4.56</td>\n",
       "      <td>9780439655484</td>\n",
       "      <td>eng</td>\n",
       "      <td>435</td>\n",
       "      <td>2339585</td>\n",
       "      <td>36325</td>\n",
       "      <td>Scholastic Inc.</td>\n",
       "      <td>2004</td>\n",
       "    </tr>\n",
       "    <tr>\n",
       "      <th>4</th>\n",
       "      <td>Harry Potter Boxed Set  Books 1-5 (Harry Potte...</td>\n",
       "      <td>J.K. Rowling/Mary GrandPré</td>\n",
       "      <td>4.78</td>\n",
       "      <td>9780439682589</td>\n",
       "      <td>eng</td>\n",
       "      <td>2690</td>\n",
       "      <td>41428</td>\n",
       "      <td>164</td>\n",
       "      <td>Scholastic</td>\n",
       "      <td>2004</td>\n",
       "    </tr>\n",
       "  </tbody>\n",
       "</table>\n",
       "</div>"
      ],
      "text/plain": [
       "                                               title  \\\n",
       "0  Harry Potter and the Half-Blood Prince (Harry ...   \n",
       "1  Harry Potter and the Order of the Phoenix (Har...   \n",
       "2  Harry Potter and the Chamber of Secrets (Harry...   \n",
       "3  Harry Potter and the Prisoner of Azkaban (Harr...   \n",
       "4  Harry Potter Boxed Set  Books 1-5 (Harry Potte...   \n",
       "\n",
       "                      authors  average_rating         isbn13 language_code  \\\n",
       "0  J.K. Rowling/Mary GrandPré            4.57  9780439785969           eng   \n",
       "1  J.K. Rowling/Mary GrandPré            4.49  9780439358071           eng   \n",
       "2                J.K. Rowling            4.42  9780439554893           eng   \n",
       "3  J.K. Rowling/Mary GrandPré            4.56  9780439655484           eng   \n",
       "4  J.K. Rowling/Mary GrandPré            4.78  9780439682589           eng   \n",
       "\n",
       "   num_pages  ratings_count  text_reviews_count        publisher  \\\n",
       "0        652        2095690               27591  Scholastic Inc.   \n",
       "1        870        2153167               29221  Scholastic Inc.   \n",
       "2        352           6333                 244       Scholastic   \n",
       "3        435        2339585               36325  Scholastic Inc.   \n",
       "4       2690          41428                 164       Scholastic   \n",
       "\n",
       "  publication_year  \n",
       "0             2006  \n",
       "1             2004  \n",
       "2             2003  \n",
       "3             2004  \n",
       "4             2004  "
      ]
     },
     "execution_count": 8,
     "metadata": {},
     "output_type": "execute_result"
    }
   ],
   "source": [
    "# Some variables do not provide information, such as bookID, publication_date, and isbn. Now that I have publication year,\n",
    "# I am not interested in publication data and the standard isbn used today is 13 digits, so I will keep isbn13.\n",
    "books = books.drop(['bookID', 'publication_date', 'isbn'], axis=1)"
   ]
  },
  {
   "cell_type": "code",
   "execution_count": 9,
   "metadata": {},
   "outputs": [
    {
     "name": "stdout",
     "output_type": "stream",
     "text": [
      "\n",
      "'language_code' has 27 classes.\n",
      " ['eng' 'en-US' 'fre' 'spa' 'en-GB' 'mul' 'grc' 'enm' 'en-CA' 'ger' 'jpn'\n",
      " 'ara' 'nl' 'zho' 'lat' 'por' 'srp' 'ita' 'rus' 'msa' 'glg' 'wel' 'swe'\n",
      " 'nor' 'tur' 'gla' 'ale']\n",
      "\n",
      "'publisher' has 2290 classes.\n",
      " ['Scholastic Inc.' 'Scholastic' 'Nimble Books' ... 'Suma'\n",
      " 'Panamericana Editorial' 'Editorial Presença']\n"
     ]
    }
   ],
   "source": [
    "# I want to make a list of the categorical variables\n",
    "cat_vars = ['language_code', 'publisher']\n",
    "for var in cat_vars: # Loops through each variable in the list I just created\n",
    "    classes = books[var].unique() # For each variable in the list, the unique classes will be returned.\n",
    "    num = books[var].nunique() # For each variable, the number of the unique classes will be returned.\n",
    "    print(\"\\n'{}' has {} classes.\\n {}\".format(var, num, classes))"
   ]
  },
  {
   "cell_type": "code",
   "execution_count": 10,
   "metadata": {},
   "outputs": [
    {
     "name": "stdout",
     "output_type": "stream",
     "text": [
      "Describe Data\n",
      "       average_rating        isbn13     num_pages  ratings_count  \\\n",
      "count    11123.000000  1.112300e+04  11123.000000   1.112300e+04   \n",
      "mean         3.934075  9.759880e+12    336.405556   1.794285e+04   \n",
      "std          0.350485  4.429758e+11    241.152626   1.124992e+05   \n",
      "min          0.000000  8.987060e+09      0.000000   0.000000e+00   \n",
      "25%          3.770000  9.780345e+12    192.000000   1.040000e+02   \n",
      "50%          3.960000  9.780582e+12    299.000000   7.450000e+02   \n",
      "75%          4.140000  9.780872e+12    416.000000   5.000500e+03   \n",
      "max          5.000000  9.790008e+12   6576.000000   4.597666e+06   \n",
      "\n",
      "       text_reviews_count  \n",
      "count        11123.000000  \n",
      "mean           542.048099  \n",
      "std           2576.619589  \n",
      "min              0.000000  \n",
      "25%              9.000000  \n",
      "50%             47.000000  \n",
      "75%            238.000000  \n",
      "max          94265.000000  \n",
      "Summarized Data\n",
      "                         title       authors language_code publisher  \\\n",
      "count                    11123         11123         11123     11123   \n",
      "unique                   10348          6639            27      2290   \n",
      "top     The Brothers Karamazov  Stephen King           eng   Vintage   \n",
      "freq                         9            40          8908       318   \n",
      "\n",
      "       publication_year  \n",
      "count             11121  \n",
      "unique               87  \n",
      "top                2006  \n",
      "freq               1700  \n"
     ]
    }
   ],
   "source": [
    "print('Describe Data')\n",
    "print(books.describe())\n",
    "print('Summarized Data')\n",
    "print(books.describe(include=['O']))"
   ]
  },
  {
   "cell_type": "code",
   "execution_count": 11,
   "metadata": {},
   "outputs": [
    {
     "data": {
      "text/plain": [
       "76"
      ]
     },
     "execution_count": 11,
     "metadata": {},
     "output_type": "execute_result"
    }
   ],
   "source": [
    "# I see the minimum num_pages is 0. I want to see how many other books are recorded as having 0 pages.\n",
    "sum(books.num_pages == 0)"
   ]
  },
  {
   "cell_type": "code",
   "execution_count": 12,
   "metadata": {},
   "outputs": [
    {
     "data": {
      "text/plain": [
       "1045"
      ]
     },
     "execution_count": 12,
     "metadata": {},
     "output_type": "execute_result"
    }
   ],
   "source": [
    "# There are 76 books that are recorded as having 0 pages. \n",
    "sum(books.num_pages <= 100)"
   ]
  },
  {
   "cell_type": "code",
   "execution_count": 13,
   "metadata": {},
   "outputs": [
    {
     "data": {
      "text/html": [
       "<div>\n",
       "<style scoped>\n",
       "    .dataframe tbody tr th:only-of-type {\n",
       "        vertical-align: middle;\n",
       "    }\n",
       "\n",
       "    .dataframe tbody tr th {\n",
       "        vertical-align: top;\n",
       "    }\n",
       "\n",
       "    .dataframe thead th {\n",
       "        text-align: right;\n",
       "    }\n",
       "</style>\n",
       "<table border=\"1\" class=\"dataframe\">\n",
       "  <thead>\n",
       "    <tr style=\"text-align: right;\">\n",
       "      <th></th>\n",
       "      <th>title</th>\n",
       "      <th>authors</th>\n",
       "      <th>average_rating</th>\n",
       "      <th>isbn13</th>\n",
       "      <th>language_code</th>\n",
       "      <th>num_pages</th>\n",
       "      <th>ratings_count</th>\n",
       "      <th>text_reviews_count</th>\n",
       "      <th>publisher</th>\n",
       "      <th>publication_year</th>\n",
       "    </tr>\n",
       "  </thead>\n",
       "  <tbody>\n",
       "    <tr>\n",
       "      <th>1406</th>\n",
       "      <td>The Brothers Karamazov</td>\n",
       "      <td>Fyodor Dostoyevsky/Constance Garnett/Manuel Ko...</td>\n",
       "      <td>4.32</td>\n",
       "      <td>9780451527349</td>\n",
       "      <td>eng</td>\n",
       "      <td>736</td>\n",
       "      <td>983</td>\n",
       "      <td>91</td>\n",
       "      <td>Signet Classics</td>\n",
       "      <td>1999</td>\n",
       "    </tr>\n",
       "    <tr>\n",
       "      <th>1407</th>\n",
       "      <td>The Brothers Karamazov</td>\n",
       "      <td>Fyodor Dostoyevsky/Fyodor Dostoevsky/Richard P...</td>\n",
       "      <td>4.32</td>\n",
       "      <td>9780374528379</td>\n",
       "      <td>eng</td>\n",
       "      <td>796</td>\n",
       "      <td>191531</td>\n",
       "      <td>6795</td>\n",
       "      <td>Farrar  Straus and Giroux</td>\n",
       "      <td>2002</td>\n",
       "    </tr>\n",
       "    <tr>\n",
       "      <th>1408</th>\n",
       "      <td>The Brothers Karamazov</td>\n",
       "      <td>Fyodor Dostoyevsky/David McDuff</td>\n",
       "      <td>4.32</td>\n",
       "      <td>9780140449242</td>\n",
       "      <td>eng</td>\n",
       "      <td>1013</td>\n",
       "      <td>1673</td>\n",
       "      <td>184</td>\n",
       "      <td>Penguin Books Ltd</td>\n",
       "      <td>2003</td>\n",
       "    </tr>\n",
       "    <tr>\n",
       "      <th>1409</th>\n",
       "      <td>The Brothers Karamazov</td>\n",
       "      <td>Fyodor Dostoyevsky/Richard Pevear/Larissa Volo...</td>\n",
       "      <td>4.32</td>\n",
       "      <td>9780679729259</td>\n",
       "      <td>eng</td>\n",
       "      <td>796</td>\n",
       "      <td>617</td>\n",
       "      <td>80</td>\n",
       "      <td>Vintage Books USA</td>\n",
       "      <td>1991</td>\n",
       "    </tr>\n",
       "    <tr>\n",
       "      <th>1410</th>\n",
       "      <td>The Brothers Karamazov</td>\n",
       "      <td>Fyodor Dostoyevsky/Simon Vance/Thomas R. Beyer...</td>\n",
       "      <td>4.32</td>\n",
       "      <td>9781596440791</td>\n",
       "      <td>eng</td>\n",
       "      <td>16</td>\n",
       "      <td>20</td>\n",
       "      <td>2</td>\n",
       "      <td>Hovel Audio</td>\n",
       "      <td>2005</td>\n",
       "    </tr>\n",
       "    <tr>\n",
       "      <th>1411</th>\n",
       "      <td>The Brothers Karamazov</td>\n",
       "      <td>Fyodor Dostoyevsky/Constance Garnett/Maire Jaanus</td>\n",
       "      <td>4.32</td>\n",
       "      <td>9781593080457</td>\n",
       "      <td>eng</td>\n",
       "      <td>720</td>\n",
       "      <td>1089</td>\n",
       "      <td>202</td>\n",
       "      <td>Barnes  Noble Classics</td>\n",
       "      <td>2004</td>\n",
       "    </tr>\n",
       "    <tr>\n",
       "      <th>1634</th>\n",
       "      <td>The Brothers Karamazov</td>\n",
       "      <td>Fyodor Dostoyevsky/Richard Pevear/Larissa Volo...</td>\n",
       "      <td>4.32</td>\n",
       "      <td>9780099922803</td>\n",
       "      <td>eng</td>\n",
       "      <td>796</td>\n",
       "      <td>443</td>\n",
       "      <td>55</td>\n",
       "      <td>Vintage Classics</td>\n",
       "      <td>1992</td>\n",
       "    </tr>\n",
       "    <tr>\n",
       "      <th>1990</th>\n",
       "      <td>The Brothers Karamazov</td>\n",
       "      <td>Fyodor Dostoyevsky/Andrew R. MacAndrew/Konstan...</td>\n",
       "      <td>4.32</td>\n",
       "      <td>9780553212167</td>\n",
       "      <td>eng</td>\n",
       "      <td>1072</td>\n",
       "      <td>1022</td>\n",
       "      <td>154</td>\n",
       "      <td>Bantam Classics</td>\n",
       "      <td>1984</td>\n",
       "    </tr>\n",
       "    <tr>\n",
       "      <th>9352</th>\n",
       "      <td>The Brothers Karamazov</td>\n",
       "      <td>Fyodor Dostoyevsky/Thomas R. Beyer Jr./Simon V...</td>\n",
       "      <td>4.32</td>\n",
       "      <td>9781596440784</td>\n",
       "      <td>eng</td>\n",
       "      <td>16</td>\n",
       "      <td>3</td>\n",
       "      <td>1</td>\n",
       "      <td>Hovel Audio</td>\n",
       "      <td>2005</td>\n",
       "    </tr>\n",
       "  </tbody>\n",
       "</table>\n",
       "</div>"
      ],
      "text/plain": [
       "                       title  \\\n",
       "1406  The Brothers Karamazov   \n",
       "1407  The Brothers Karamazov   \n",
       "1408  The Brothers Karamazov   \n",
       "1409  The Brothers Karamazov   \n",
       "1410  The Brothers Karamazov   \n",
       "1411  The Brothers Karamazov   \n",
       "1634  The Brothers Karamazov   \n",
       "1990  The Brothers Karamazov   \n",
       "9352  The Brothers Karamazov   \n",
       "\n",
       "                                                authors  average_rating  \\\n",
       "1406  Fyodor Dostoyevsky/Constance Garnett/Manuel Ko...            4.32   \n",
       "1407  Fyodor Dostoyevsky/Fyodor Dostoevsky/Richard P...            4.32   \n",
       "1408                    Fyodor Dostoyevsky/David McDuff            4.32   \n",
       "1409  Fyodor Dostoyevsky/Richard Pevear/Larissa Volo...            4.32   \n",
       "1410  Fyodor Dostoyevsky/Simon Vance/Thomas R. Beyer...            4.32   \n",
       "1411  Fyodor Dostoyevsky/Constance Garnett/Maire Jaanus            4.32   \n",
       "1634  Fyodor Dostoyevsky/Richard Pevear/Larissa Volo...            4.32   \n",
       "1990  Fyodor Dostoyevsky/Andrew R. MacAndrew/Konstan...            4.32   \n",
       "9352  Fyodor Dostoyevsky/Thomas R. Beyer Jr./Simon V...            4.32   \n",
       "\n",
       "             isbn13 language_code  num_pages  ratings_count  \\\n",
       "1406  9780451527349           eng        736            983   \n",
       "1407  9780374528379           eng        796         191531   \n",
       "1408  9780140449242           eng       1013           1673   \n",
       "1409  9780679729259           eng        796            617   \n",
       "1410  9781596440791           eng         16             20   \n",
       "1411  9781593080457           eng        720           1089   \n",
       "1634  9780099922803           eng        796            443   \n",
       "1990  9780553212167           eng       1072           1022   \n",
       "9352  9781596440784           eng         16              3   \n",
       "\n",
       "      text_reviews_count                  publisher publication_year  \n",
       "1406                  91            Signet Classics             1999  \n",
       "1407                6795  Farrar  Straus and Giroux             2002  \n",
       "1408                 184          Penguin Books Ltd             2003  \n",
       "1409                  80          Vintage Books USA             1991  \n",
       "1410                   2                Hovel Audio             2005  \n",
       "1411                 202     Barnes  Noble Classics             2004  \n",
       "1634                  55           Vintage Classics             1992  \n",
       "1990                 154            Bantam Classics             1984  \n",
       "9352                   1                Hovel Audio             2005  "
      ]
     },
     "execution_count": 13,
     "metadata": {},
     "output_type": "execute_result"
    }
   ],
   "source": [
    "# There are 1045 books that are recorded as having less than 100 pages. I was going to drop these observations \n",
    "# from the dataset. However, I know that another data source of mine has the variable number_of_pages so for now\n",
    "# I will keep all observations.\n",
    "\n",
    "\n",
    "books[books.title == 'The Brothers Karamazov'] "
   ]
  },
  {
   "cell_type": "code",
   "execution_count": 14,
   "metadata": {},
   "outputs": [
    {
     "name": "stdout",
     "output_type": "stream",
     "text": [
      "title has 775 duplicate values.\n",
      "authors has 4484 duplicate values.\n",
      "average_rating has 10914 duplicate values.\n",
      "isbn13 has no duplicate values.\n",
      "language_code has 11096 duplicate values.\n",
      "num_pages has 10126 duplicate values.\n",
      "ratings_count has 5829 duplicate values.\n",
      "text_reviews_count has 9301 duplicate values.\n",
      "publisher has 8833 duplicate values.\n",
      "publication_year has 11035 duplicate values.\n"
     ]
    }
   ],
   "source": [
    "# Check for duplicates\n",
    "for variable in books:\n",
    "    duplicates = books[variable].duplicated().sum()\n",
    "    if duplicates > 0:\n",
    "        print('{} has {} duplicate values.'.format(variable, duplicates))\n",
    "    else:\n",
    "        print('{} has no duplicate values.'.format(variable))"
   ]
  },
  {
   "cell_type": "code",
   "execution_count": 59,
   "metadata": {},
   "outputs": [],
   "source": [
    "# There are many duplicates. This is expected for most of the variables. Luckily, isbn13 has no duplicate values. This\n",
    "# means that duplicate titles are likely to have many different publishers or published in different languages."
   ]
  },
  {
   "cell_type": "code",
   "execution_count": 15,
   "metadata": {},
   "outputs": [
    {
     "data": {
      "image/png": "[encoded data removed]",
      "text/plain": [
       "<Figure size 432x288 with 1 Axes>"
      ]
     },
     "metadata": {
      "needs_background": "light"
     },
     "output_type": "display_data"
    },
    {
     "data": {
      "image/png": "[encoded data removed]",
      "text/plain": [
       "<Figure size 432x288 with 1 Axes>"
      ]
     },
     "metadata": {
      "needs_background": "light"
     },
     "output_type": "display_data"
    },
    {
     "data": {
      "image/png": "[encoded data removed]",
      "text/plain": [
       "<Figure size 432x288 with 1 Axes>"
      ]
     },
     "metadata": {
      "needs_background": "light"
     },
     "output_type": "display_data"
    },
    {
     "data": {
      "image/png": "[encoded data removed]",
      "text/plain": [
       "<Figure size 432x288 with 1 Axes>"
      ]
     },
     "metadata": {
      "needs_background": "light"
     },
     "output_type": "display_data"
    },
    {
     "data": {
      "image/png": "[encoded data removed]",
      "text/plain": [
       "<Figure size 432x288 with 1 Axes>"
      ]
     },
     "metadata": {
      "needs_background": "light"
     },
     "output_type": "display_data"
    }
   ],
   "source": [
    "# Histograms of numerical variables\n",
    "num_vars = ['average_rating', 'isbn13', 'num_pages', 'ratings_count', 'text_reviews_count']\n",
    "for variable in num_vars: # This loop will access each variable\n",
    "    plt.hist(books[variable]) # This will plot a histogram of each variable\n",
    "    plt.title('Histogram of '+ variable) # This will label each histogram using a unique title containing the variable name.\n",
    "    plt.show()"
   ]
  },
  {
   "cell_type": "code",
   "execution_count": 16,
   "metadata": {},
   "outputs": [],
   "source": [
    "# isbn13 is a 13 digit number. Any values that do not have 13 digits should be removed. \n",
    "len(books[books['isbn13'] < 999999999999]) # There are 25 \n",
    "books[books['isbn13'] < 999999999999]\n",
    "\n",
    "books = books[books['isbn13'] > 999999999999] "
   ]
  },
  {
   "cell_type": "code",
   "execution_count": 17,
   "metadata": {},
   "outputs": [],
   "source": [
    "# I want to remove text in parentheses from the titles and convert them to lowercase\n",
    "books['title'] = books['title'].apply(lambda x: x.split('(')[0])\n",
    "books['title_lower'] = books['title'].apply(lambda x: x.strip().lower())"
   ]
  },
  {
   "cell_type": "code",
   "execution_count": 18,
   "metadata": {},
   "outputs": [],
   "source": [
    "# Then, I will save the clean data as a CSV file\n",
    "books.to_csv('clean_csvbooks.csv', sep=',', index=False) "
   ]
  }
 ],
 "metadata": {
  "kernelspec": {
   "display_name": "Python 3",
   "language": "python",
   "name": "python3"
  },
  "language_info": {
   "codemirror_mode": {
    "name": "ipython",
    "version": 3
   },
   "file_extension": ".py",
   "mimetype": "text/x-python",
   "name": "python",
   "nbconvert_exporter": "python",
   "pygments_lexer": "ipython3",
   "version": "3.7.1"
  },
  "latex_envs": {
   "LaTeX_envs_menu_present": true,
   "autoclose": false,
   "autocomplete": true,
   "bibliofile": "biblio.bib",
   "cite_by": "apalike",
   "current_citInitial": 1,
   "eqLabelWithNumbers": true,
   "eqNumInitial": 1,
   "hotkeys": {
    "equation": "Ctrl-E",
    "itemize": "Ctrl-I"
   },
   "labels_anchors": false,
   "latex_user_defs": false,
   "report_style_numbering": false,
   "user_envs_cfg": false
  },
  "toc": {
   "base_numbering": 1,
   "nav_menu": {},
   "number_sections": false,
   "sideBar": true,
   "skip_h1_title": false,
   "title_cell": "Table of Contents",
   "title_sidebar": "Contents",
   "toc_cell": false,
   "toc_position": {},
   "toc_section_display": true,
   "toc_window_display": false
  }
 },
 "nbformat": 4,
 "nbformat_minor": 4
}
